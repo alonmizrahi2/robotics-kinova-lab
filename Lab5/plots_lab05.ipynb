{
 "cells": [
  {
   "cell_type": "code",
   "execution_count": 2,
   "metadata": {},
   "outputs": [],
   "source": [
    "import numpy as np\n",
    "import matplotlib.pyplot as plt\n",
    "import pickle\n",
    "import glob\n",
    "from re import T\n",
    "from sympy import *\n",
    "from scipy.spatial.transform import Rotation"
   ]
  },
  {
   "cell_type": "code",
   "execution_count": 2,
   "metadata": {},
   "outputs": [],
   "source": [
    "# for direct kinematics\n",
    "\n",
    "alpha1, alpha2, alpha3, alpha4, alpha5, alpha6 = symbols('alpha1:7')\n",
    "a1, a2, a3, a4, a5, a6 = symbols('a1:7')\n",
    "d1, d2, d3, d4, d5, d6 = symbols('d1:7')\n",
    "q1, q2, q3, q4, q5, q6 = symbols('q1:7')\n",
    "\n",
    "def set_dh_table():\n",
    "    dh_subs_dict = {alpha1: pi / 2, a1: 0, d1: 0.2433, q1: q1,\n",
    "                    alpha2: pi, a2: 0.28, d2: 0.03, q2: q2 + pi / 2,\n",
    "                    alpha3: pi / 2, a3: 0, d3: 0.02, q3: q3 + pi / 2,\n",
    "                    alpha4: pi / 2, a4: 0, d4: 0.245, q4: q4 + pi / 2,\n",
    "                    alpha5: pi / 2, a5: 0, d5: 0.057, q5: q5 + pi,\n",
    "                    alpha6: 0, a6: 0, d6: 0.235, q6: q6 + pi / 2}\n",
    "    return dh_subs_dict\n",
    "\n",
    "def dh(alpha, a, d, theta):\n",
    "    # Formula\n",
    "    return Matrix([[cos(theta), -cos(alpha)*sin(theta), sin(alpha)*sin(theta), a*cos(theta)],\n",
    "                     [sin(theta), cos(alpha)*cos(theta), -sin(alpha)*cos(theta), a*sin(theta)],\n",
    "                     [0, sin(alpha), cos(alpha), d],\n",
    "                     [0, 0, 0, 1]])               \n",
    "    \n",
    "def transform_matrices():\n",
    "\n",
    "    dictionary = set_dh_table()\n",
    "    T_01 = dh(dictionary[alpha1], dictionary[a1], dictionary[d1], dictionary[q1])\n",
    "    T_12 = dh(dictionary[alpha2], dictionary[a2], dictionary[d2], dictionary[q2])\n",
    "    T_23 = dh(dictionary[alpha3], dictionary[a3], dictionary[d3], dictionary[q3])\n",
    "    T_34 = dh(dictionary[alpha4], dictionary[a4], dictionary[d4], dictionary[q4])\n",
    "    T_45 = dh(dictionary[alpha5], dictionary[a5], dictionary[d5], dictionary[q5])\n",
    "    T_56 = dh(dictionary[alpha6], dictionary[a6], dictionary[d6], dictionary[q6])\n",
    "    Tes = Matrix([[0, -1, 0, 0], [1, 0, 0, 0], [0, 0, 1, 0], [0, 0, 0, 1]])\n",
    "    T = T_01 * T_12 * T_23 * T_34 * T_45 * T_56 * Tes\n",
    "\n",
    "    return T\n",
    "\n",
    "def FK(theta_list):\n",
    "\n",
    "    dictionary = set_dh_table()\n",
    "    T_01 = dh(dictionary[alpha1], dictionary[a1], dictionary[d1], dictionary[q1])\n",
    "    T_12 = dh(dictionary[alpha2], dictionary[a2], dictionary[d2], dictionary[q2])\n",
    "    T_23 = dh(dictionary[alpha3], dictionary[a3], dictionary[d3], dictionary[q3])\n",
    "    T_34 = dh(dictionary[alpha4], dictionary[a4], dictionary[d4], dictionary[q4])\n",
    "    T_45 = dh(dictionary[alpha5], dictionary[a5], dictionary[d5], dictionary[q5])\n",
    "    T_56 = dh(dictionary[alpha6], dictionary[a6], dictionary[d6], dictionary[q6])\n",
    "    Tes = Matrix([[0, -1, 0, 0], [1, 0, 0, 0], [0, 0, 1, 0], [0, 0, 0, 1]])\n",
    "    T = T_01 * T_12 * T_23 * T_34 * T_45 * T_56 * Tes\n",
    "\n",
    "    theta_dict = {q1:theta_list[0], q2:theta_list[1], q3:theta_list[2], q4:theta_list[3], q5:theta_list[4], q6:theta_list[5]}\n",
    "\n",
    "    T_0G_eval = T.evalf(subs=theta_dict, chop=True, maxn=4)\n",
    "    A = T_0G_eval\n",
    "    A03 = np.array(A[0, 3]).astype(np.float32)\n",
    "    A13 = np.array(A[1, 3]).astype(np.float32)\n",
    "    A23 = np.array(A[2, 3]).astype(np.float32)\n",
    "    return np.array([A03, A13, A23])\n"
   ]
  },
  {
   "cell_type": "code",
   "execution_count": 3,
   "metadata": {},
   "outputs": [],
   "source": [
    "#data_path = set your own path to data dir\n",
    "data_path = 'C:/Users/alon/Repose/robotics_kinova_lab/Lab5/data_5'\n",
    "records = []\n",
    "for file in glob.glob(data_path + '/*/*.pkl'):\n",
    "    with open(file, 'rb') as h:\n",
    "        records.append(pickle.load(h))"
   ]
  },
  {
   "cell_type": "code",
   "execution_count": 4,
   "metadata": {},
   "outputs": [],
   "source": [
    "def plot_xyz(Key_points, r_path, p_path, num):\n",
    "\n",
    "    fig = plt.figure(figsize = (55,20))\n",
    "    ax1 = fig.add_subplot(2, 2, 1, projection='3d')\n",
    "    ax1.scatter(Key_points[:,0],Key_points[:,1], Key_points[:,2], c='red', s=10) \n",
    "    ax1.plot(r_path[:,0], r_path[:,1], r_path[:,2], color='black')\n",
    "    ax1.plot(p_path[:,0], p_path[:,1], p_path[:,2], color='blue', linestyle='dashed')\n",
    "    ax1.legend(['Real path','Planned path', 'Key points'])\n",
    "    ax1.set_xlabel('X[m]')\n",
    "    ax1.set_ylabel('Y[m]')\n",
    "    ax1.set_zlabel('Z[m]')\n",
    "    ax1.set_title(f\"XYZ Gripper path, {num}\")\n",
    "\n",
    "    # plt.savefig(f\"C:/Users/alon/Repose/robotics_kinova_lab/Lab4/figs/{num}.png\")\n",
    "\n",
    "    plt.show()"
   ]
  },
  {
   "cell_type": "code",
   "execution_count": null,
   "metadata": {},
   "outputs": [],
   "source": [
    "records[0][0] # robot angles \n",
    "records[0][1] # gripper pose \n",
    "records[0][2] # euler angles"
   ]
  },
  {
   "cell_type": "code",
   "execution_count": 18,
   "metadata": {},
   "outputs": [
    {
     "data": {
      "text/plain": [
       "3"
      ]
     },
     "execution_count": 18,
     "metadata": {},
     "output_type": "execute_result"
    }
   ],
   "source": [
    "len(records[9])\n"
   ]
  }
 ],
 "metadata": {
  "interpreter": {
   "hash": "ca814197623e7402c68382f33a663a57fb635b712b36f66fc1fd0873aa8486c5"
  },
  "kernelspec": {
   "display_name": "Python 3.9.12 64-bit (windows store)",
   "language": "python",
   "name": "python3"
  },
  "language_info": {
   "codemirror_mode": {
    "name": "ipython",
    "version": 3
   },
   "file_extension": ".py",
   "mimetype": "text/x-python",
   "name": "python",
   "nbconvert_exporter": "python",
   "pygments_lexer": "ipython3",
   "version": "3.9.12"
  },
  "orig_nbformat": 4
 },
 "nbformat": 4,
 "nbformat_minor": 2
}
