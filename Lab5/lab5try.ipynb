{
 "cells": [
  {
   "cell_type": "code",
   "execution_count": 17,
   "metadata": {},
   "outputs": [],
   "source": [
    "import numpy as np\n",
    "import transformations\n",
    "from scipy.spatial.transform import Rotation as R\n",
    "import modern_robotics\n",
    "\n",
    "def skew(x):\n",
    "    return np.array([[0, -x[2], x[1]],\n",
    "                     [x[2], 0, -x[0]],\n",
    "                     [-x[1], x[0], 0]])\n"
   ]
  },
  {
   "cell_type": "code",
   "execution_count": 55,
   "metadata": {},
   "outputs": [
    {
     "name": "stdout",
     "output_type": "stream",
     "text": [
      "[0. 0. 0.]\n",
      "[0. 0. 0.]\n"
     ]
    }
   ],
   "source": [
    "a = np.array(([1, 2, 3],[2, 3, 6],[5, 3, 9]))\n",
    "b = np.array(([3, 2, 3],[3, 3, 6],[4, 3, 6]))\n",
    "# at = np.transpose(a)\n",
    "Rot_Err_Mat = np.dot(a, np.transpose(a))\n",
    "u = R.from_matrix(Rot_Err_Mat).as_rotvec()\n",
    "t = R.from_matrix(Rot_Err_Mat).as_euler('zyx')\n",
    "v = np.array([1, 2, 3])\n",
    "print(t)\n",
    "print(u)\n",
    "\n"
   ]
  },
  {
   "cell_type": "code",
   "execution_count": 29,
   "metadata": {},
   "outputs": [],
   "source": [
    "    I = np.identity(3)\n",
    "    S_Pcur = skew(v)\n",
    "    theta = v - 1\n",
    "    u = v + 1\n",
    "    j_tu = I - (theta/2) * skew(u) + (1 - (np.sinc(theta) / ((np.sinc(theta / 2)) ** 2))) * np.dot(skew(u), skew(u))\n",
    "\n",
    "\n",
    "    L_out = np.vstack((np.hstack((-I, S_Pcur)), np.hstack((np.zeros([3,3]), j_tu))))"
   ]
  },
  {
   "cell_type": "code",
   "execution_count": 20,
   "metadata": {},
   "outputs": [
    {
     "data": {
      "text/plain": [
       "array([[1., 0., 0.],\n",
       "       [0., 1., 0.],\n",
       "       [0., 0., 1.]])"
      ]
     },
     "execution_count": 20,
     "metadata": {},
     "output_type": "execute_result"
    }
   ],
   "source": [
    "I = np.identity(3)\n",
    "I"
   ]
  },
  {
   "cell_type": "code",
   "execution_count": 30,
   "metadata": {},
   "outputs": [
    {
     "ename": "ValueError",
     "evalue": "no unit eigenvector corresponding to eigenvalue 1",
     "output_type": "error",
     "traceback": [
      "\u001b[1;31m---------------------------------------------------------------------------\u001b[0m",
      "\u001b[1;31mValueError\u001b[0m                                Traceback (most recent call last)",
      "\u001b[1;32mc:\\Users\\alon\\Repose\\robotics_kinova_lab\\Lab5\\lab5try.ipynb Cell 6'\u001b[0m in \u001b[0;36m<cell line: 4>\u001b[1;34m()\u001b[0m\n\u001b[0;32m      <a href='vscode-notebook-cell:/c%3A/Users/alon/Repose/robotics_kinova_lab/Lab5/lab5try.ipynb#ch0000006?line=0'>1</a>\u001b[0m Rr \u001b[39m=\u001b[39m np\u001b[39m.\u001b[39marray(([\u001b[39m1\u001b[39m, \u001b[39m2\u001b[39m, \u001b[39m3\u001b[39m],[\u001b[39m2\u001b[39m, \u001b[39m3\u001b[39m, \u001b[39m6\u001b[39m],[\u001b[39m5\u001b[39m, \u001b[39m3\u001b[39m, \u001b[39m9\u001b[39m]))\n\u001b[0;32m      <a href='vscode-notebook-cell:/c%3A/Users/alon/Repose/robotics_kinova_lab/Lab5/lab5try.ipynb#ch0000006?line=1'>2</a>\u001b[0m R_del_homo \u001b[39m=\u001b[39m np\u001b[39m.\u001b[39mvstack((np\u001b[39m.\u001b[39mhstack((Rr, np\u001b[39m.\u001b[39mzeros((\u001b[39m3\u001b[39m, \u001b[39m1\u001b[39m)))), np\u001b[39m.\u001b[39marray([\u001b[39m0\u001b[39m, \u001b[39m0\u001b[39m, \u001b[39m0\u001b[39m, \u001b[39m1\u001b[39m])))\n\u001b[1;32m----> <a href='vscode-notebook-cell:/c%3A/Users/alon/Repose/robotics_kinova_lab/Lab5/lab5try.ipynb#ch0000006?line=3'>4</a>\u001b[0m (theta, u, _) \u001b[39m=\u001b[39m transformations\u001b[39m.\u001b[39;49mrotation_from_matrix(R_del_homo)\n",
      "File \u001b[1;32m~\\AppData\\Local\\Packages\\PythonSoftwareFoundation.Python.3.9_qbz5n2kfra8p0\\LocalCache\\local-packages\\Python39\\site-packages\\transformations\\transformations.py:379\u001b[0m, in \u001b[0;36mrotation_from_matrix\u001b[1;34m(matrix)\u001b[0m\n\u001b[0;32m    <a href='file:///c%3A/Users/alon/AppData/Local/Packages/PythonSoftwareFoundation.Python.3.9_qbz5n2kfra8p0/LocalCache/local-packages/Python39/site-packages/transformations/transformations.py?line=376'>377</a>\u001b[0m i \u001b[39m=\u001b[39m numpy\u001b[39m.\u001b[39mwhere(\u001b[39mabs\u001b[39m(numpy\u001b[39m.\u001b[39mreal(w) \u001b[39m-\u001b[39m \u001b[39m1.0\u001b[39m) \u001b[39m<\u001b[39m \u001b[39m1e-8\u001b[39m)[\u001b[39m0\u001b[39m]\n\u001b[0;32m    <a href='file:///c%3A/Users/alon/AppData/Local/Packages/PythonSoftwareFoundation.Python.3.9_qbz5n2kfra8p0/LocalCache/local-packages/Python39/site-packages/transformations/transformations.py?line=377'>378</a>\u001b[0m \u001b[39mif\u001b[39;00m \u001b[39mnot\u001b[39;00m \u001b[39mlen\u001b[39m(i):\n\u001b[1;32m--> <a href='file:///c%3A/Users/alon/AppData/Local/Packages/PythonSoftwareFoundation.Python.3.9_qbz5n2kfra8p0/LocalCache/local-packages/Python39/site-packages/transformations/transformations.py?line=378'>379</a>\u001b[0m     \u001b[39mraise\u001b[39;00m \u001b[39mValueError\u001b[39;00m(\u001b[39m'\u001b[39m\u001b[39mno unit eigenvector corresponding to eigenvalue 1\u001b[39m\u001b[39m'\u001b[39m)\n\u001b[0;32m    <a href='file:///c%3A/Users/alon/AppData/Local/Packages/PythonSoftwareFoundation.Python.3.9_qbz5n2kfra8p0/LocalCache/local-packages/Python39/site-packages/transformations/transformations.py?line=379'>380</a>\u001b[0m direction \u001b[39m=\u001b[39m numpy\u001b[39m.\u001b[39mreal(W[:, i[\u001b[39m-\u001b[39m\u001b[39m1\u001b[39m]])\u001b[39m.\u001b[39msqueeze()\n\u001b[0;32m    <a href='file:///c%3A/Users/alon/AppData/Local/Packages/PythonSoftwareFoundation.Python.3.9_qbz5n2kfra8p0/LocalCache/local-packages/Python39/site-packages/transformations/transformations.py?line=380'>381</a>\u001b[0m \u001b[39m# point: unit eigenvector of R33 corresponding to eigenvalue of 1\u001b[39;00m\n",
      "\u001b[1;31mValueError\u001b[0m: no unit eigenvector corresponding to eigenvalue 1"
     ]
    }
   ],
   "source": [
    "\n",
    "\n"
   ]
  }
 ],
 "metadata": {
  "interpreter": {
   "hash": "ca814197623e7402c68382f33a663a57fb635b712b36f66fc1fd0873aa8486c5"
  },
  "kernelspec": {
   "display_name": "Python 2",
   "language": "python",
   "name": "python2"
  },
  "language_info": {
   "codemirror_mode": {
    "name": "ipython",
    "version": 2
   },
   "file_extension": ".py",
   "mimetype": "text/x-python",
   "name": "python",
   "nbconvert_exporter": "python",
   "pygments_lexer": "ipython2",
   "version": "2.7.18"
  }
 },
 "nbformat": 4,
 "nbformat_minor": 2
}
